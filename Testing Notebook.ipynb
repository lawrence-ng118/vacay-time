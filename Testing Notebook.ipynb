{
 "cells": [
  {
   "cell_type": "code",
   "execution_count": 17,
   "id": "81b2cb72-d71e-4576-a8c0-1940cf510218",
   "metadata": {},
   "outputs": [],
   "source": [
    "import requests\n",
    "import time\n",
    "\n",
    "#page = requests.get(\"https://www.xe.com/currencyconverter/\")\n",
    "#print(page.text)\n",
    "\n",
    "from selenium import webdriver\n",
    "from selenium.webdriver.support.ui import Select\n",
    "from selenium.webdriver.common.by import By\n",
    "from selenium.webdriver.common.keys import Keys\n",
    "\n",
    "# open driver\n",
    "driver = webdriver.Chrome()\n",
    "\n",
    "# load the website\n",
    "driver.get(\"https://www.google.com/\")\n",
    "\n",
    "#  locate the search bar\n",
    "search_bar = driver.find_element(By.CLASS_NAME, \"gLFyf\")\n",
    "search_bar.send_keys(\"PHP TO JPY\")\n",
    "time.sleep(1)\n",
    "search_bar.send_keys(Keys.RETURN)"
   ]
  }
 ],
 "metadata": {
  "kernelspec": {
   "display_name": "Python 3 (ipykernel)",
   "language": "python",
   "name": "python3"
  },
  "language_info": {
   "codemirror_mode": {
    "name": "ipython",
    "version": 3
   },
   "file_extension": ".py",
   "mimetype": "text/x-python",
   "name": "python",
   "nbconvert_exporter": "python",
   "pygments_lexer": "ipython3",
   "version": "3.11.7"
  }
 },
 "nbformat": 4,
 "nbformat_minor": 5
}
