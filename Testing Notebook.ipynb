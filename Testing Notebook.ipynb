{
 "cells": [
  {
   "cell_type": "code",
   "execution_count": 2,
   "id": "81b2cb72-d71e-4576-a8c0-1940cf510218",
   "metadata": {},
   "outputs": [
    {
     "name": "stdin",
     "output_type": "stream",
     "text": [
      "Please input your original currency:  PHP\n"
     ]
    }
   ],
   "source": [
    "import requests\n",
    "import time\n",
    "from selenium import webdriver\n",
    "from selenium.webdriver.support.ui import Select\n",
    "from selenium.webdriver.common.by import By\n",
    "from selenium.webdriver.common.keys import Keys\n",
    "from tkinter import *\n",
    "\n",
    "# open driver\n",
    "driver = webdriver.Chrome()\n",
    "\n",
    "# load google search bar XD\n",
    "driver.get(\"https://www.google.com/\")\n",
    "\n",
    "#  locating search bar\n",
    "search_bar = driver.find_element(By.CLASS_NAME, \"gLFyf\")\n",
    "\n",
    "# getting the user inputs\n",
    "og_currency = input(\"Please input your original currency: \")\n",
    "currencies = [\"JPY\"]\n",
    "\n",
    "# going thru all the exchange rates\n",
    "for i in currencies:\n",
    "    search_bar.send_keys(og_currency + \" TO \" + i)\n",
    "    time.sleep(1)\n",
    "    search_bar.send_keys(Keys.RETURN)\n",
    "    time.sleep(2)\n",
    "    \n",
    "    \n",
    "    # get the history (1D, 5D, 1M, 1Y, 5Y, Max)\n",
    "    \n",
    "    # hover thru the time graph\n",
    "    \n",
    "    date = driver.find_element(By.CLASS_NAME, \"knowledge-finance-wholepage-chart__hover-card-time\")\n",
    "    value = driver.find_element(By.CLASS_NAME, \"knowledge-finance-wholepage-chart__hover-card-value\")\n",
    "    \n",
    "    driver.back()\n",
    "\n"
   ]
  }
 ],
 "metadata": {
  "kernelspec": {
   "display_name": "Python 3 (ipykernel)",
   "language": "python",
   "name": "python3"
  },
  "language_info": {
   "codemirror_mode": {
    "name": "ipython",
    "version": 3
   },
   "file_extension": ".py",
   "mimetype": "text/x-python",
   "name": "python",
   "nbconvert_exporter": "python",
   "pygments_lexer": "ipython3",
   "version": "3.11.7"
  }
 },
 "nbformat": 4,
 "nbformat_minor": 5
}
