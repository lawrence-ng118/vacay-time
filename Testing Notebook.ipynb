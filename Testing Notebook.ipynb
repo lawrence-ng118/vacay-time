{
 "cells": [
  {
   "cell_type": "code",
   "execution_count": 31,
   "id": "81b2cb72-d71e-4576-a8c0-1940cf510218",
   "metadata": {},
   "outputs": [
    {
     "name": "stdin",
     "output_type": "stream",
     "text": [
      "Please input your original currency:  PHP\n"
     ]
    },
    {
     "ename": "NoSuchElementException",
     "evalue": "Message: no such element: Unable to locate element: {\"method\":\"css selector\",\"selector\":\".hSGhwc\"}\n  (Session info: chrome=126.0.6478.127); For documentation on this error, please visit: https://www.selenium.dev/documentation/webdriver/troubleshooting/errors#no-such-element-exception\nStacktrace:\n\tGetHandleVerifier [0x00007FF61C0DEEA2+31554]\n\t(No symbol) [0x00007FF61C057ED9]\n\t(No symbol) [0x00007FF61BF1872A]\n\t(No symbol) [0x00007FF61BF68434]\n\t(No symbol) [0x00007FF61BF6853C]\n\t(No symbol) [0x00007FF61BFAF6A7]\n\t(No symbol) [0x00007FF61BF8D06F]\n\t(No symbol) [0x00007FF61BFAC977]\n\t(No symbol) [0x00007FF61BF8CDD3]\n\t(No symbol) [0x00007FF61BF5A33B]\n\t(No symbol) [0x00007FF61BF5AED1]\n\tGetHandleVerifier [0x00007FF61C3E8B1D+3217341]\n\tGetHandleVerifier [0x00007FF61C435AE3+3532675]\n\tGetHandleVerifier [0x00007FF61C42B0E0+3489152]\n\tGetHandleVerifier [0x00007FF61C18E776+750614]\n\t(No symbol) [0x00007FF61C06375F]\n\t(No symbol) [0x00007FF61C05EB14]\n\t(No symbol) [0x00007FF61C05ECA2]\n\t(No symbol) [0x00007FF61C04E16F]\n\tBaseThreadInitThunk [0x00007FFBF2DC257D+29]\n\tRtlUserThreadStart [0x00007FFBF4EAAF28+40]\n",
     "output_type": "error",
     "traceback": [
      "\u001b[1;31m---------------------------------------------------------------------------\u001b[0m",
      "\u001b[1;31mNoSuchElementException\u001b[0m                    Traceback (most recent call last)",
      "Cell \u001b[1;32mIn[31], line 41\u001b[0m\n\u001b[0;32m     38\u001b[0m driver\u001b[38;5;241m.\u001b[39mfind_element(By\u001b[38;5;241m.\u001b[39mID, \u001b[38;5;124m\"\u001b[39m\u001b[38;5;124m5yearTab\u001b[39m\u001b[38;5;124m\"\u001b[39m)\u001b[38;5;241m.\u001b[39mclick()\n\u001b[0;32m     40\u001b[0m \u001b[38;5;66;03m# hover thru the time graph\u001b[39;00m\n\u001b[1;32m---> 41\u001b[0m driver\u001b[38;5;241m.\u001b[39mfind_element(By\u001b[38;5;241m.\u001b[39mCLASS_NAME, \u001b[38;5;124m\"\u001b[39m\u001b[38;5;124mhSGhwc\u001b[39m\u001b[38;5;124m\"\u001b[39m)\u001b[38;5;241m.\u001b[39mmoveToElement()\n\u001b[0;32m     42\u001b[0m date \u001b[38;5;241m=\u001b[39m driver\u001b[38;5;241m.\u001b[39mfind_element(By\u001b[38;5;241m.\u001b[39mCLASS_NAME, \u001b[38;5;124m\"\u001b[39m\u001b[38;5;124mknowledge-finance-wholepage-chart__hover-card-time\u001b[39m\u001b[38;5;124m\"\u001b[39m)\n\u001b[0;32m     43\u001b[0m value \u001b[38;5;241m=\u001b[39m driver\u001b[38;5;241m.\u001b[39mfind_element(By\u001b[38;5;241m.\u001b[39mCLASS_NAME, \u001b[38;5;124m\"\u001b[39m\u001b[38;5;124mknowledge-finance-wholepage-chart__hover-card-value\u001b[39m\u001b[38;5;124m\"\u001b[39m)\n",
      "File \u001b[1;32m~\\AppData\\Roaming\\Python\\Python311\\site-packages\\selenium\\webdriver\\remote\\webdriver.py:748\u001b[0m, in \u001b[0;36mWebDriver.find_element\u001b[1;34m(self, by, value)\u001b[0m\n\u001b[0;32m    745\u001b[0m     by \u001b[38;5;241m=\u001b[39m By\u001b[38;5;241m.\u001b[39mCSS_SELECTOR\n\u001b[0;32m    746\u001b[0m     value \u001b[38;5;241m=\u001b[39m \u001b[38;5;124mf\u001b[39m\u001b[38;5;124m'\u001b[39m\u001b[38;5;124m[name=\u001b[39m\u001b[38;5;124m\"\u001b[39m\u001b[38;5;132;01m{\u001b[39;00mvalue\u001b[38;5;132;01m}\u001b[39;00m\u001b[38;5;124m\"\u001b[39m\u001b[38;5;124m]\u001b[39m\u001b[38;5;124m'\u001b[39m\n\u001b[1;32m--> 748\u001b[0m \u001b[38;5;28;01mreturn\u001b[39;00m \u001b[38;5;28mself\u001b[39m\u001b[38;5;241m.\u001b[39mexecute(Command\u001b[38;5;241m.\u001b[39mFIND_ELEMENT, {\u001b[38;5;124m\"\u001b[39m\u001b[38;5;124musing\u001b[39m\u001b[38;5;124m\"\u001b[39m: by, \u001b[38;5;124m\"\u001b[39m\u001b[38;5;124mvalue\u001b[39m\u001b[38;5;124m\"\u001b[39m: value})[\u001b[38;5;124m\"\u001b[39m\u001b[38;5;124mvalue\u001b[39m\u001b[38;5;124m\"\u001b[39m]\n",
      "File \u001b[1;32m~\\AppData\\Roaming\\Python\\Python311\\site-packages\\selenium\\webdriver\\remote\\webdriver.py:354\u001b[0m, in \u001b[0;36mWebDriver.execute\u001b[1;34m(self, driver_command, params)\u001b[0m\n\u001b[0;32m    352\u001b[0m response \u001b[38;5;241m=\u001b[39m \u001b[38;5;28mself\u001b[39m\u001b[38;5;241m.\u001b[39mcommand_executor\u001b[38;5;241m.\u001b[39mexecute(driver_command, params)\n\u001b[0;32m    353\u001b[0m \u001b[38;5;28;01mif\u001b[39;00m response:\n\u001b[1;32m--> 354\u001b[0m     \u001b[38;5;28mself\u001b[39m\u001b[38;5;241m.\u001b[39merror_handler\u001b[38;5;241m.\u001b[39mcheck_response(response)\n\u001b[0;32m    355\u001b[0m     response[\u001b[38;5;124m\"\u001b[39m\u001b[38;5;124mvalue\u001b[39m\u001b[38;5;124m\"\u001b[39m] \u001b[38;5;241m=\u001b[39m \u001b[38;5;28mself\u001b[39m\u001b[38;5;241m.\u001b[39m_unwrap_value(response\u001b[38;5;241m.\u001b[39mget(\u001b[38;5;124m\"\u001b[39m\u001b[38;5;124mvalue\u001b[39m\u001b[38;5;124m\"\u001b[39m, \u001b[38;5;28;01mNone\u001b[39;00m))\n\u001b[0;32m    356\u001b[0m     \u001b[38;5;28;01mreturn\u001b[39;00m response\n",
      "File \u001b[1;32m~\\AppData\\Roaming\\Python\\Python311\\site-packages\\selenium\\webdriver\\remote\\errorhandler.py:229\u001b[0m, in \u001b[0;36mErrorHandler.check_response\u001b[1;34m(self, response)\u001b[0m\n\u001b[0;32m    227\u001b[0m         alert_text \u001b[38;5;241m=\u001b[39m value[\u001b[38;5;124m\"\u001b[39m\u001b[38;5;124malert\u001b[39m\u001b[38;5;124m\"\u001b[39m]\u001b[38;5;241m.\u001b[39mget(\u001b[38;5;124m\"\u001b[39m\u001b[38;5;124mtext\u001b[39m\u001b[38;5;124m\"\u001b[39m)\n\u001b[0;32m    228\u001b[0m     \u001b[38;5;28;01mraise\u001b[39;00m exception_class(message, screen, stacktrace, alert_text)  \u001b[38;5;66;03m# type: ignore[call-arg]  # mypy is not smart enough here\u001b[39;00m\n\u001b[1;32m--> 229\u001b[0m \u001b[38;5;28;01mraise\u001b[39;00m exception_class(message, screen, stacktrace)\n",
      "\u001b[1;31mNoSuchElementException\u001b[0m: Message: no such element: Unable to locate element: {\"method\":\"css selector\",\"selector\":\".hSGhwc\"}\n  (Session info: chrome=126.0.6478.127); For documentation on this error, please visit: https://www.selenium.dev/documentation/webdriver/troubleshooting/errors#no-such-element-exception\nStacktrace:\n\tGetHandleVerifier [0x00007FF61C0DEEA2+31554]\n\t(No symbol) [0x00007FF61C057ED9]\n\t(No symbol) [0x00007FF61BF1872A]\n\t(No symbol) [0x00007FF61BF68434]\n\t(No symbol) [0x00007FF61BF6853C]\n\t(No symbol) [0x00007FF61BFAF6A7]\n\t(No symbol) [0x00007FF61BF8D06F]\n\t(No symbol) [0x00007FF61BFAC977]\n\t(No symbol) [0x00007FF61BF8CDD3]\n\t(No symbol) [0x00007FF61BF5A33B]\n\t(No symbol) [0x00007FF61BF5AED1]\n\tGetHandleVerifier [0x00007FF61C3E8B1D+3217341]\n\tGetHandleVerifier [0x00007FF61C435AE3+3532675]\n\tGetHandleVerifier [0x00007FF61C42B0E0+3489152]\n\tGetHandleVerifier [0x00007FF61C18E776+750614]\n\t(No symbol) [0x00007FF61C06375F]\n\t(No symbol) [0x00007FF61C05EB14]\n\t(No symbol) [0x00007FF61C05ECA2]\n\t(No symbol) [0x00007FF61C04E16F]\n\tBaseThreadInitThunk [0x00007FFBF2DC257D+29]\n\tRtlUserThreadStart [0x00007FFBF4EAAF28+40]\n"
     ]
    }
   ],
   "source": [
    "import requests\n",
    "import time\n",
    "from selenium import webdriver\n",
    "from selenium.webdriver.support.ui import Select\n",
    "from selenium.webdriver.common.by import By\n",
    "from selenium.webdriver.common.keys import Keys\n",
    "from selenium.webdriver import ActionChains\n",
    "from selenium.webdriver.common.actions.action_builder import ActionBuilder\n",
    "from selenium.webdriver.common.actions.mouse_button import MouseButton\n",
    "\n",
    "# open driver\n",
    "driver = webdriver.Chrome()\n",
    "\n",
    "# load google search bar XD\n",
    "driver.get(\"https://www.google.com/\")\n",
    "\n",
    "#  locating search bar\n",
    "search_bar = driver.find_element(By.CLASS_NAME, \"gLFyf\")\n",
    "\n",
    "# getting the user inputs\n",
    "og_currency = input(\"Please input your original currency: \")\n",
    "currencies = [\"JPY\"]\n",
    "\n",
    "# going thru all the exchange rates\n",
    "# actions = ActionChains(driver)\n",
    "for i in currencies:\n",
    "    # enter search entry\n",
    "    search_bar.send_keys(og_currency + \" TO \" + i)\n",
    "    time.sleep(1)\n",
    "    search_bar.send_keys(Keys.RETURN)\n",
    "    time.sleep(2)\n",
    "\n",
    "    # go to google finance page\n",
    "    driver.find_element(By.CLASS_NAME, \"jRKCUd\").click()\n",
    "    time.sleep(3)\n",
    "    \n",
    "    # go to history tab (1D, 5D, 1M, 1Y, 5Y, Max)\n",
    "    driver.find_element(By.ID, \"5yearTab\").click()\n",
    "    \n",
    "    # hover thru the time graph (CURRENT PROBLEM, DONT KNOW HOW TO HOVER THRU AND GET THE DATA)\n",
    "    driver.find_element(By.CLASS_NAME, \"hSGhwc\").moveToElement()\n",
    "    date = driver.find_element(By.CLASS_NAME, \"knowledge-finance-wholepage-chart__hover-card-time\")\n",
    "    value = driver.find_element(By.CLASS_NAME, \"knowledge-finance-wholepage-chart__hover-card-value\")\n",
    "    \n",
    "    driver.back()\n",
    "\n"
   ]
  }
 ],
 "metadata": {
  "kernelspec": {
   "display_name": "Python 3 (ipykernel)",
   "language": "python",
   "name": "python3"
  },
  "language_info": {
   "codemirror_mode": {
    "name": "ipython",
    "version": 3
   },
   "file_extension": ".py",
   "mimetype": "text/x-python",
   "name": "python",
   "nbconvert_exporter": "python",
   "pygments_lexer": "ipython3",
   "version": "3.11.7"
  }
 },
 "nbformat": 4,
 "nbformat_minor": 5
}
